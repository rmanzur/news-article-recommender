{
 "cells": [
  {
   "cell_type": "markdown",
   "id": "dafec47e",
   "metadata": {},
   "source": [
    "## Objective: to create a baseline content-based recommender system using TF-IDF vectorizer and cosine similarity"
   ]
  },
  {
   "cell_type": "code",
   "execution_count": 48,
   "id": "494840a0",
   "metadata": {},
   "outputs": [],
   "source": [
    "import pandas as pd\n",
    "import numpy as np\n",
    "import matplotlib.pyplot as plt\n",
    "import os\n",
    "from joblib import dump\n",
    "np.set_printoptions(threshold=np.inf)\n",
    "pd.set_option('display.max_colwidth', None)  \n"
   ]
  },
  {
   "cell_type": "code",
   "execution_count": 49,
   "id": "461a1ded",
   "metadata": {},
   "outputs": [
    {
     "name": "stdout",
     "output_type": "stream",
     "text": [
      "2.3.0\n"
     ]
    }
   ],
   "source": [
    "print(pd.__version__)"
   ]
  },
  {
   "cell_type": "markdown",
   "id": "3f7e5bf9",
   "metadata": {},
   "source": [
    "### Read the news article dataset into a pandas dataframe and sample 10k rows"
   ]
  },
  {
   "cell_type": "code",
   "execution_count": 50,
   "id": "9e964acd",
   "metadata": {},
   "outputs": [],
   "source": [
    "news_df = pd.read_csv('news.tsv', sep='\\t', header = None)\n",
    "news_df.columns = [\"news_id\", \"category\", \"subcategory\", \"title\", \"abstract\", \"url\", \"title_entities\", \"abstract_entities\"]\n",
    "\n",
    "news_df = news_df.sample(n=10000, random_state=42) #randomly sample 10k rows from the news articles dataset\n",
    "news_df.reset_index(drop = True, inplace = True)\n"
   ]
  },
  {
   "cell_type": "markdown",
   "id": "b10618fb",
   "metadata": {},
   "source": [
    "### Explore dataset and check for missing values and duplicates"
   ]
  },
  {
   "cell_type": "code",
   "execution_count": 51,
   "id": "3af0d768",
   "metadata": {},
   "outputs": [
    {
     "name": "stdout",
     "output_type": "stream",
     "text": [
      "<class 'pandas.core.frame.DataFrame'>\n",
      "RangeIndex: 10000 entries, 0 to 9999\n",
      "Data columns (total 8 columns):\n",
      " #   Column             Non-Null Count  Dtype \n",
      "---  ------             --------------  ----- \n",
      " 0   news_id            10000 non-null  object\n",
      " 1   category           10000 non-null  object\n",
      " 2   subcategory        10000 non-null  object\n",
      " 3   title              10000 non-null  object\n",
      " 4   abstract           9470 non-null   object\n",
      " 5   url                10000 non-null  object\n",
      " 6   title_entities     9999 non-null   object\n",
      " 7   abstract_entities  9999 non-null   object\n",
      "dtypes: object(8)\n",
      "memory usage: 625.1+ KB\n"
     ]
    }
   ],
   "source": [
    "news_df.info() #10K unique articles\n"
   ]
  },
  {
   "cell_type": "code",
   "execution_count": 52,
   "id": "2b88378b",
   "metadata": {},
   "outputs": [
    {
     "data": {
      "text/html": [
       "<div>\n",
       "<style scoped>\n",
       "    .dataframe tbody tr th:only-of-type {\n",
       "        vertical-align: middle;\n",
       "    }\n",
       "\n",
       "    .dataframe tbody tr th {\n",
       "        vertical-align: top;\n",
       "    }\n",
       "\n",
       "    .dataframe thead th {\n",
       "        text-align: right;\n",
       "    }\n",
       "</style>\n",
       "<table border=\"1\" class=\"dataframe\">\n",
       "  <thead>\n",
       "    <tr style=\"text-align: right;\">\n",
       "      <th></th>\n",
       "      <th>news_id</th>\n",
       "      <th>category</th>\n",
       "      <th>subcategory</th>\n",
       "      <th>title</th>\n",
       "      <th>abstract</th>\n",
       "      <th>url</th>\n",
       "      <th>title_entities</th>\n",
       "      <th>abstract_entities</th>\n",
       "    </tr>\n",
       "  </thead>\n",
       "  <tbody>\n",
       "    <tr>\n",
       "      <th>0</th>\n",
       "      <td>N7433</td>\n",
       "      <td>news</td>\n",
       "      <td>newsus</td>\n",
       "      <td>The 3 best Greek spots in Aurora</td>\n",
       "      <td>Hoodline crunched the numbers to find the top Greek spots around Aurora. Here's a rundown of three of the top places.</td>\n",
       "      <td>https://assets.msn.com/labs/mind/BBWHLdc.html</td>\n",
       "      <td>[]</td>\n",
       "      <td>[]</td>\n",
       "    </tr>\n",
       "    <tr>\n",
       "      <th>1</th>\n",
       "      <td>N43326</td>\n",
       "      <td>sports</td>\n",
       "      <td>more_sports</td>\n",
       "      <td>Officials investigating stabbing death of Alexander Correctional Institute inmate</td>\n",
       "      <td>NaN</td>\n",
       "      <td>https://assets.msn.com/labs/mind/AAJD8WV.html</td>\n",
       "      <td>[{\"Label\": \"Prison\", \"Type\": \"C\", \"WikidataId\": \"Q40357\", \"Confidence\": 1.0, \"OccurrenceOffsets\": [52], \"SurfaceForms\": [\"Correctional Institute\"]}]</td>\n",
       "      <td>[]</td>\n",
       "    </tr>\n",
       "    <tr>\n",
       "      <th>2</th>\n",
       "      <td>N45745</td>\n",
       "      <td>finance</td>\n",
       "      <td>finance-top-stocks</td>\n",
       "      <td>SmileDirectClub tanks on California bill, bringing loss since September IPO to nearly 60%</td>\n",
       "      <td>Shares of SmileDirectClub sank to a new all-time low during Monday's trading session after a California bill regulating the dental industry was extended through 2024.</td>\n",
       "      <td>https://assets.msn.com/labs/mind/AAILU2e.html</td>\n",
       "      <td>[{\"Label\": \"SmileDirectClub\", \"Type\": \"N\", \"WikidataId\": \"Q60751931\", \"Confidence\": 1.0, \"OccurrenceOffsets\": [0], \"SurfaceForms\": [\"SmileDirectClub\"]}, {\"Label\": \"Initial public offering\", \"Type\": \"U\", \"WikidataId\": \"Q185142\", \"Confidence\": 1.0, \"OccurrenceOffsets\": [72], \"SurfaceForms\": [\"IPO\"]}]</td>\n",
       "      <td>[{\"Label\": \"SmileDirectClub\", \"Type\": \"N\", \"WikidataId\": \"Q60751931\", \"Confidence\": 1.0, \"OccurrenceOffsets\": [10], \"SurfaceForms\": [\"SmileDirectClub\"]}]</td>\n",
       "    </tr>\n",
       "    <tr>\n",
       "      <th>3</th>\n",
       "      <td>N5234</td>\n",
       "      <td>travel</td>\n",
       "      <td>traveltips</td>\n",
       "      <td>The world's 50 most reliable airlines</td>\n",
       "      <td>No one wants to kick off their holiday with delays, cancellations or bad customer service, so if you're keen for your next journey to be smooth sailing   or smooth flying, rather   travel insurance provider Get Going Travel Insurance has got you covered. They've examined the reliability of more than 100 of the world's airlines, looking at the percentage of cancellations and delays, as well as customer and safety ratings, and ranked the top 50 from worst to best. Here's our lowdown on the results.</td>\n",
       "      <td>https://assets.msn.com/labs/mind/AAJub6N.html</td>\n",
       "      <td>[]</td>\n",
       "      <td>[{\"Label\": \"Get Going\", \"Type\": \"N\", \"WikidataId\": \"Q62076002\", \"Confidence\": 1.0, \"OccurrenceOffsets\": [207], \"SurfaceForms\": [\"Get Going\"]}, {\"Label\": \"Travel insurance\", \"Type\": \"U\", \"WikidataId\": \"Q1270407\", \"Confidence\": 1.0, \"OccurrenceOffsets\": [181, 217], \"SurfaceForms\": [\"travel insurance\", \"Travel Insurance\"]}]</td>\n",
       "    </tr>\n",
       "    <tr>\n",
       "      <th>4</th>\n",
       "      <td>N58530</td>\n",
       "      <td>sports</td>\n",
       "      <td>basketball_ncaa</td>\n",
       "      <td>High school football: Breaking down the Class 3A playoff bracket</td>\n",
       "      <td>The Class 3A football playoffs begin Friday across the state. Here is a breakdown of the bracket. Player to watch Chase Ricke, Lincoln Christian The senior quarterback has been phenomenal this season. He has led an offense that is averaging 51 points per contest and could lead the Bulldogs to an upset against Heritage Hall in the semifinals. Team to watch Perkins-Tryon The Demons' ...</td>\n",
       "      <td>https://assets.msn.com/labs/mind/BBWAERc.html</td>\n",
       "      <td>[{\"Label\": \"South African Class 3A 4-8-2\", \"Type\": \"V\", \"WikidataId\": \"Q1722959\", \"Confidence\": 1.0, \"OccurrenceOffsets\": [40], \"SurfaceForms\": [\"Class 3A\"]}]</td>\n",
       "      <td>[{\"Label\": \"Heritage Hall School\", \"Type\": \"F\", \"WikidataId\": \"Q5738839\", \"Confidence\": 0.999, \"OccurrenceOffsets\": [311], \"SurfaceForms\": [\"Heritage Hall\"]}, {\"Label\": \"South African Class 3A 4-8-2\", \"Type\": \"V\", \"WikidataId\": \"Q1722959\", \"Confidence\": 1.0, \"OccurrenceOffsets\": [4], \"SurfaceForms\": [\"Class 3A\"]}]</td>\n",
       "    </tr>\n",
       "  </tbody>\n",
       "</table>\n",
       "</div>"
      ],
      "text/plain": [
       "  news_id category         subcategory  \\\n",
       "0   N7433     news              newsus   \n",
       "1  N43326   sports         more_sports   \n",
       "2  N45745  finance  finance-top-stocks   \n",
       "3   N5234   travel          traveltips   \n",
       "4  N58530   sports     basketball_ncaa   \n",
       "\n",
       "                                                                                       title  \\\n",
       "0                                                           The 3 best Greek spots in Aurora   \n",
       "1          Officials investigating stabbing death of Alexander Correctional Institute inmate   \n",
       "2  SmileDirectClub tanks on California bill, bringing loss since September IPO to nearly 60%   \n",
       "3                                                      The world's 50 most reliable airlines   \n",
       "4                           High school football: Breaking down the Class 3A playoff bracket   \n",
       "\n",
       "                                                                                                                                                                                                                                                                                                                                                                                                                                                                                                                abstract  \\\n",
       "0                                                                                                                                                                                                                                                                                                                                                                                                  Hoodline crunched the numbers to find the top Greek spots around Aurora. Here's a rundown of three of the top places.   \n",
       "1                                                                                                                                                                                                                                                                                                                                                                                                                                                                                                                    NaN   \n",
       "2                                                                                                                                                                                                                                                                                                                                                 Shares of SmileDirectClub sank to a new all-time low during Monday's trading session after a California bill regulating the dental industry was extended through 2024.   \n",
       "3  No one wants to kick off their holiday with delays, cancellations or bad customer service, so if you're keen for your next journey to be smooth sailing   or smooth flying, rather   travel insurance provider Get Going Travel Insurance has got you covered. They've examined the reliability of more than 100 of the world's airlines, looking at the percentage of cancellations and delays, as well as customer and safety ratings, and ranked the top 50 from worst to best. Here's our lowdown on the results.   \n",
       "4                                                                                                                    The Class 3A football playoffs begin Friday across the state. Here is a breakdown of the bracket. Player to watch Chase Ricke, Lincoln Christian The senior quarterback has been phenomenal this season. He has led an offense that is averaging 51 points per contest and could lead the Bulldogs to an upset against Heritage Hall in the semifinals. Team to watch Perkins-Tryon The Demons' ...   \n",
       "\n",
       "                                             url  \\\n",
       "0  https://assets.msn.com/labs/mind/BBWHLdc.html   \n",
       "1  https://assets.msn.com/labs/mind/AAJD8WV.html   \n",
       "2  https://assets.msn.com/labs/mind/AAILU2e.html   \n",
       "3  https://assets.msn.com/labs/mind/AAJub6N.html   \n",
       "4  https://assets.msn.com/labs/mind/BBWAERc.html   \n",
       "\n",
       "                                                                                                                                                                                                                                                                                                title_entities  \\\n",
       "0                                                                                                                                                                                                                                                                                                           []   \n",
       "1                                                                                                                                                         [{\"Label\": \"Prison\", \"Type\": \"C\", \"WikidataId\": \"Q40357\", \"Confidence\": 1.0, \"OccurrenceOffsets\": [52], \"SurfaceForms\": [\"Correctional Institute\"]}]   \n",
       "2  [{\"Label\": \"SmileDirectClub\", \"Type\": \"N\", \"WikidataId\": \"Q60751931\", \"Confidence\": 1.0, \"OccurrenceOffsets\": [0], \"SurfaceForms\": [\"SmileDirectClub\"]}, {\"Label\": \"Initial public offering\", \"Type\": \"U\", \"WikidataId\": \"Q185142\", \"Confidence\": 1.0, \"OccurrenceOffsets\": [72], \"SurfaceForms\": [\"IPO\"]}]   \n",
       "3                                                                                                                                                                                                                                                                                                           []   \n",
       "4                                                                                                                                               [{\"Label\": \"South African Class 3A 4-8-2\", \"Type\": \"V\", \"WikidataId\": \"Q1722959\", \"Confidence\": 1.0, \"OccurrenceOffsets\": [40], \"SurfaceForms\": [\"Class 3A\"]}]   \n",
       "\n",
       "                                                                                                                                                                                                                                                                                                                    abstract_entities  \n",
       "0                                                                                                                                                                                                                                                                                                                                  []  \n",
       "1                                                                                                                                                                                                                                                                                                                                  []  \n",
       "2                                                                                                                                                                           [{\"Label\": \"SmileDirectClub\", \"Type\": \"N\", \"WikidataId\": \"Q60751931\", \"Confidence\": 1.0, \"OccurrenceOffsets\": [10], \"SurfaceForms\": [\"SmileDirectClub\"]}]  \n",
       "3  [{\"Label\": \"Get Going\", \"Type\": \"N\", \"WikidataId\": \"Q62076002\", \"Confidence\": 1.0, \"OccurrenceOffsets\": [207], \"SurfaceForms\": [\"Get Going\"]}, {\"Label\": \"Travel insurance\", \"Type\": \"U\", \"WikidataId\": \"Q1270407\", \"Confidence\": 1.0, \"OccurrenceOffsets\": [181, 217], \"SurfaceForms\": [\"travel insurance\", \"Travel Insurance\"]}]  \n",
       "4         [{\"Label\": \"Heritage Hall School\", \"Type\": \"F\", \"WikidataId\": \"Q5738839\", \"Confidence\": 0.999, \"OccurrenceOffsets\": [311], \"SurfaceForms\": [\"Heritage Hall\"]}, {\"Label\": \"South African Class 3A 4-8-2\", \"Type\": \"V\", \"WikidataId\": \"Q1722959\", \"Confidence\": 1.0, \"OccurrenceOffsets\": [4], \"SurfaceForms\": [\"Class 3A\"]}]  "
      ]
     },
     "execution_count": 52,
     "metadata": {},
     "output_type": "execute_result"
    }
   ],
   "source": [
    "news_df.head()"
   ]
  },
  {
   "cell_type": "code",
   "execution_count": 53,
   "id": "f4d9a6f5",
   "metadata": {},
   "outputs": [],
   "source": [
    "news_df = news_df[['news_id', 'category', 'subcategory', 'title', 'abstract', 'title_entities', 'abstract_entities']]"
   ]
  },
  {
   "cell_type": "code",
   "execution_count": 54,
   "id": "a3d9d8f3",
   "metadata": {},
   "outputs": [
    {
     "data": {
      "text/plain": [
       "news_id                0\n",
       "category               0\n",
       "subcategory            0\n",
       "title                  0\n",
       "abstract             530\n",
       "title_entities         1\n",
       "abstract_entities      1\n",
       "dtype: int64"
      ]
     },
     "execution_count": 54,
     "metadata": {},
     "output_type": "execute_result"
    }
   ],
   "source": [
    "news_df.isna().sum()"
   ]
  },
  {
   "cell_type": "code",
   "execution_count": 55,
   "id": "078cdf83",
   "metadata": {},
   "outputs": [
    {
     "data": {
      "text/html": [
       "<div>\n",
       "<style scoped>\n",
       "    .dataframe tbody tr th:only-of-type {\n",
       "        vertical-align: middle;\n",
       "    }\n",
       "\n",
       "    .dataframe tbody tr th {\n",
       "        vertical-align: top;\n",
       "    }\n",
       "\n",
       "    .dataframe thead th {\n",
       "        text-align: right;\n",
       "    }\n",
       "</style>\n",
       "<table border=\"1\" class=\"dataframe\">\n",
       "  <thead>\n",
       "    <tr style=\"text-align: right;\">\n",
       "      <th></th>\n",
       "      <th>news_id</th>\n",
       "      <th>category</th>\n",
       "      <th>subcategory</th>\n",
       "      <th>title</th>\n",
       "      <th>abstract</th>\n",
       "      <th>title_entities</th>\n",
       "      <th>abstract_entities</th>\n",
       "    </tr>\n",
       "  </thead>\n",
       "  <tbody>\n",
       "    <tr>\n",
       "      <th>1</th>\n",
       "      <td>N43326</td>\n",
       "      <td>sports</td>\n",
       "      <td>more_sports</td>\n",
       "      <td>Officials investigating stabbing death of Alexander Correctional Institute inmate</td>\n",
       "      <td>NaN</td>\n",
       "      <td>[{\"Label\": \"Prison\", \"Type\": \"C\", \"WikidataId\": \"Q40357\", \"Confidence\": 1.0, \"OccurrenceOffsets\": [52], \"SurfaceForms\": [\"Correctional Institute\"]}]</td>\n",
       "      <td>[]</td>\n",
       "    </tr>\n",
       "    <tr>\n",
       "      <th>5</th>\n",
       "      <td>N60943</td>\n",
       "      <td>news</td>\n",
       "      <td>newsus</td>\n",
       "      <td>Car trailer hauling 5 vehicles, including Porsche, stolen in the Bronx</td>\n",
       "      <td>NaN</td>\n",
       "      <td>[{\"Label\": \"The Bronx\", \"Type\": \"G\", \"WikidataId\": \"Q18426\", \"Confidence\": 1.0, \"OccurrenceOffsets\": [65], \"SurfaceForms\": [\"Bronx\"]}, {\"Label\": \"Porsche\", \"Type\": \"O\", \"WikidataId\": \"Q40993\", \"Confidence\": 0.997, \"OccurrenceOffsets\": [42], \"SurfaceForms\": [\"Porsche\"]}]</td>\n",
       "      <td>[]</td>\n",
       "    </tr>\n",
       "    <tr>\n",
       "      <th>15</th>\n",
       "      <td>N37781</td>\n",
       "      <td>news</td>\n",
       "      <td>newscrime</td>\n",
       "      <td>Police: Man shot friend in head with shotgun during argument over LSU-Alabama game</td>\n",
       "      <td>NaN</td>\n",
       "      <td>[]</td>\n",
       "      <td>[]</td>\n",
       "    </tr>\n",
       "    <tr>\n",
       "      <th>16</th>\n",
       "      <td>N61444</td>\n",
       "      <td>finance</td>\n",
       "      <td>financenews</td>\n",
       "      <td>Plan to close Lordstown facility moves forward with GM, UAW agreement; contract ratification under way</td>\n",
       "      <td>NaN</td>\n",
       "      <td>[{\"Label\": \"Lordstown, Ohio\", \"Type\": \"G\", \"WikidataId\": \"Q1816711\", \"Confidence\": 0.999, \"OccurrenceOffsets\": [14], \"SurfaceForms\": [\"Lordstown\"]}, {\"Label\": \"United Automobile Workers\", \"Type\": \"O\", \"WikidataId\": \"Q1814260\", \"Confidence\": 1.0, \"OccurrenceOffsets\": [56], \"SurfaceForms\": [\"UAW\"]}]</td>\n",
       "      <td>[]</td>\n",
       "    </tr>\n",
       "    <tr>\n",
       "      <th>36</th>\n",
       "      <td>N9246</td>\n",
       "      <td>news</td>\n",
       "      <td>newscrime</td>\n",
       "      <td>Woman broke into cars, stole credit cards and bought Visa gift cards, police say</td>\n",
       "      <td>NaN</td>\n",
       "      <td>[{\"Label\": \"Visa Inc.\", \"Type\": \"O\", \"WikidataId\": \"Q328840\", \"Confidence\": 1.0, \"OccurrenceOffsets\": [53], \"SurfaceForms\": [\"Visa\"]}]</td>\n",
       "      <td>[]</td>\n",
       "    </tr>\n",
       "    <tr>\n",
       "      <th>...</th>\n",
       "      <td>...</td>\n",
       "      <td>...</td>\n",
       "      <td>...</td>\n",
       "      <td>...</td>\n",
       "      <td>...</td>\n",
       "      <td>...</td>\n",
       "      <td>...</td>\n",
       "    </tr>\n",
       "    <tr>\n",
       "      <th>9881</th>\n",
       "      <td>N35839</td>\n",
       "      <td>foodanddrink</td>\n",
       "      <td>newstrends</td>\n",
       "      <td>Three Sickened After Eating Tuna At Seattle Restaurant</td>\n",
       "      <td>NaN</td>\n",
       "      <td>[{\"Label\": \"Tuna\", \"Type\": \"J\", \"WikidataId\": \"Q6146274\", \"Confidence\": 0.991, \"OccurrenceOffsets\": [28], \"SurfaceForms\": [\"Tuna\"]}]</td>\n",
       "      <td>[]</td>\n",
       "    </tr>\n",
       "    <tr>\n",
       "      <th>9893</th>\n",
       "      <td>N49826</td>\n",
       "      <td>news</td>\n",
       "      <td>newsus</td>\n",
       "      <td>Suspects wanted in violent robbery of food delivery man in Brooklyn</td>\n",
       "      <td>NaN</td>\n",
       "      <td>[{\"Label\": \"Brooklyn\", \"Type\": \"G\", \"WikidataId\": \"Q18419\", \"Confidence\": 0.983, \"OccurrenceOffsets\": [59], \"SurfaceForms\": [\"Brooklyn\"]}]</td>\n",
       "      <td>[]</td>\n",
       "    </tr>\n",
       "    <tr>\n",
       "      <th>9917</th>\n",
       "      <td>N9029</td>\n",
       "      <td>sports</td>\n",
       "      <td>football_ncaa</td>\n",
       "      <td>Louisiana governor waits until end of LSU-Florida to make post-election speech</td>\n",
       "      <td>NaN</td>\n",
       "      <td>[{\"Label\": \"Louisiana\", \"Type\": \"G\", \"WikidataId\": \"Q1588\", \"Confidence\": 1.0, \"OccurrenceOffsets\": [0], \"SurfaceForms\": [\"Louisiana\"]}]</td>\n",
       "      <td>[]</td>\n",
       "    </tr>\n",
       "    <tr>\n",
       "      <th>9972</th>\n",
       "      <td>N30289</td>\n",
       "      <td>news</td>\n",
       "      <td>newsus</td>\n",
       "      <td>Community rally planned after 3 senior citizens attacked in San Francisco's Chinatown</td>\n",
       "      <td>NaN</td>\n",
       "      <td>[{\"Label\": \"Chinatown, San Francisco\", \"Type\": \"G\", \"WikidataId\": \"Q1073644\", \"Confidence\": 1.0, \"OccurrenceOffsets\": [60], \"SurfaceForms\": [\"San Francisco's Chinatown\"]}]</td>\n",
       "      <td>[]</td>\n",
       "    </tr>\n",
       "    <tr>\n",
       "      <th>9982</th>\n",
       "      <td>N7227</td>\n",
       "      <td>lifestyle</td>\n",
       "      <td>lifestylebuzz</td>\n",
       "      <td>2019 TCS NYC Marathon: Son dedicates making big race to mother who helped him through injuries</td>\n",
       "      <td>NaN</td>\n",
       "      <td>[{\"Label\": \"New York City Marathon\", \"Type\": \"U\", \"WikidataId\": \"Q752138\", \"Confidence\": 1.0, \"OccurrenceOffsets\": [9], \"SurfaceForms\": [\"NYC Marathon\"]}, {\"Label\": \"Tata Consultancy Services\", \"Type\": \"O\", \"WikidataId\": \"Q13227919\", \"Confidence\": 0.984, \"OccurrenceOffsets\": [5], \"SurfaceForms\": [\"TCS\"]}]</td>\n",
       "      <td>[]</td>\n",
       "    </tr>\n",
       "  </tbody>\n",
       "</table>\n",
       "<p>530 rows × 7 columns</p>\n",
       "</div>"
      ],
      "text/plain": [
       "     news_id      category    subcategory  \\\n",
       "1     N43326        sports    more_sports   \n",
       "5     N60943          news         newsus   \n",
       "15    N37781          news      newscrime   \n",
       "16    N61444       finance    financenews   \n",
       "36     N9246          news      newscrime   \n",
       "...      ...           ...            ...   \n",
       "9881  N35839  foodanddrink     newstrends   \n",
       "9893  N49826          news         newsus   \n",
       "9917   N9029        sports  football_ncaa   \n",
       "9972  N30289          news         newsus   \n",
       "9982   N7227     lifestyle  lifestylebuzz   \n",
       "\n",
       "                                                                                                       title  \\\n",
       "1                          Officials investigating stabbing death of Alexander Correctional Institute inmate   \n",
       "5                                     Car trailer hauling 5 vehicles, including Porsche, stolen in the Bronx   \n",
       "15                        Police: Man shot friend in head with shotgun during argument over LSU-Alabama game   \n",
       "16    Plan to close Lordstown facility moves forward with GM, UAW agreement; contract ratification under way   \n",
       "36                          Woman broke into cars, stole credit cards and bought Visa gift cards, police say   \n",
       "...                                                                                                      ...   \n",
       "9881                                                  Three Sickened After Eating Tuna At Seattle Restaurant   \n",
       "9893                                     Suspects wanted in violent robbery of food delivery man in Brooklyn   \n",
       "9917                          Louisiana governor waits until end of LSU-Florida to make post-election speech   \n",
       "9972                   Community rally planned after 3 senior citizens attacked in San Francisco's Chinatown   \n",
       "9982          2019 TCS NYC Marathon: Son dedicates making big race to mother who helped him through injuries   \n",
       "\n",
       "     abstract  \\\n",
       "1         NaN   \n",
       "5         NaN   \n",
       "15        NaN   \n",
       "16        NaN   \n",
       "36        NaN   \n",
       "...       ...   \n",
       "9881      NaN   \n",
       "9893      NaN   \n",
       "9917      NaN   \n",
       "9972      NaN   \n",
       "9982      NaN   \n",
       "\n",
       "                                                                                                                                                                                                                                                                                                          title_entities  \\\n",
       "1                                                                                                                                                                   [{\"Label\": \"Prison\", \"Type\": \"C\", \"WikidataId\": \"Q40357\", \"Confidence\": 1.0, \"OccurrenceOffsets\": [52], \"SurfaceForms\": [\"Correctional Institute\"]}]   \n",
       "5                                         [{\"Label\": \"The Bronx\", \"Type\": \"G\", \"WikidataId\": \"Q18426\", \"Confidence\": 1.0, \"OccurrenceOffsets\": [65], \"SurfaceForms\": [\"Bronx\"]}, {\"Label\": \"Porsche\", \"Type\": \"O\", \"WikidataId\": \"Q40993\", \"Confidence\": 0.997, \"OccurrenceOffsets\": [42], \"SurfaceForms\": [\"Porsche\"]}]   \n",
       "15                                                                                                                                                                                                                                                                                                                    []   \n",
       "16            [{\"Label\": \"Lordstown, Ohio\", \"Type\": \"G\", \"WikidataId\": \"Q1816711\", \"Confidence\": 0.999, \"OccurrenceOffsets\": [14], \"SurfaceForms\": [\"Lordstown\"]}, {\"Label\": \"United Automobile Workers\", \"Type\": \"O\", \"WikidataId\": \"Q1814260\", \"Confidence\": 1.0, \"OccurrenceOffsets\": [56], \"SurfaceForms\": [\"UAW\"]}]   \n",
       "36                                                                                                                                                                                [{\"Label\": \"Visa Inc.\", \"Type\": \"O\", \"WikidataId\": \"Q328840\", \"Confidence\": 1.0, \"OccurrenceOffsets\": [53], \"SurfaceForms\": [\"Visa\"]}]   \n",
       "...                                                                                                                                                                                                                                                                                                                  ...   \n",
       "9881                                                                                                                                                                                [{\"Label\": \"Tuna\", \"Type\": \"J\", \"WikidataId\": \"Q6146274\", \"Confidence\": 0.991, \"OccurrenceOffsets\": [28], \"SurfaceForms\": [\"Tuna\"]}]   \n",
       "9893                                                                                                                                                                          [{\"Label\": \"Brooklyn\", \"Type\": \"G\", \"WikidataId\": \"Q18419\", \"Confidence\": 0.983, \"OccurrenceOffsets\": [59], \"SurfaceForms\": [\"Brooklyn\"]}]   \n",
       "9917                                                                                                                                                                            [{\"Label\": \"Louisiana\", \"Type\": \"G\", \"WikidataId\": \"Q1588\", \"Confidence\": 1.0, \"OccurrenceOffsets\": [0], \"SurfaceForms\": [\"Louisiana\"]}]   \n",
       "9972                                                                                                                                         [{\"Label\": \"Chinatown, San Francisco\", \"Type\": \"G\", \"WikidataId\": \"Q1073644\", \"Confidence\": 1.0, \"OccurrenceOffsets\": [60], \"SurfaceForms\": [\"San Francisco's Chinatown\"]}]   \n",
       "9982  [{\"Label\": \"New York City Marathon\", \"Type\": \"U\", \"WikidataId\": \"Q752138\", \"Confidence\": 1.0, \"OccurrenceOffsets\": [9], \"SurfaceForms\": [\"NYC Marathon\"]}, {\"Label\": \"Tata Consultancy Services\", \"Type\": \"O\", \"WikidataId\": \"Q13227919\", \"Confidence\": 0.984, \"OccurrenceOffsets\": [5], \"SurfaceForms\": [\"TCS\"]}]   \n",
       "\n",
       "     abstract_entities  \n",
       "1                   []  \n",
       "5                   []  \n",
       "15                  []  \n",
       "16                  []  \n",
       "36                  []  \n",
       "...                ...  \n",
       "9881                []  \n",
       "9893                []  \n",
       "9917                []  \n",
       "9972                []  \n",
       "9982                []  \n",
       "\n",
       "[530 rows x 7 columns]"
      ]
     },
     "execution_count": 55,
     "metadata": {},
     "output_type": "execute_result"
    }
   ],
   "source": [
    "news_df[news_df['abstract'].isna()]"
   ]
  },
  {
   "cell_type": "code",
   "execution_count": 56,
   "id": "3fac1a7a",
   "metadata": {},
   "outputs": [
    {
     "data": {
      "text/plain": [
       "0"
      ]
     },
     "execution_count": 56,
     "metadata": {},
     "output_type": "execute_result"
    }
   ],
   "source": [
    "news_df.duplicated().sum() #output shows there are no duplicates"
   ]
  },
  {
   "cell_type": "code",
   "execution_count": 57,
   "id": "a1474a80",
   "metadata": {},
   "outputs": [],
   "source": [
    "news_df.dropna(inplace = True) # Drop any rows with missing values"
   ]
  },
  {
   "cell_type": "code",
   "execution_count": 58,
   "id": "174b79c0",
   "metadata": {},
   "outputs": [
    {
     "data": {
      "text/plain": [
       "(9469, 7)"
      ]
     },
     "execution_count": 58,
     "metadata": {},
     "output_type": "execute_result"
    }
   ],
   "source": [
    "news_df.shape"
   ]
  },
  {
   "cell_type": "code",
   "execution_count": 59,
   "id": "b21eebb2",
   "metadata": {},
   "outputs": [],
   "source": [
    "#transform the title and abstract columns into list of words\n",
    "\n",
    "news_df['title_cleaned'] = news_df['title'].apply(lambda x: x.split())\n",
    "news_df['abstract'] = news_df['abstract'].apply(lambda x: x.split())"
   ]
  },
  {
   "cell_type": "code",
   "execution_count": 60,
   "id": "027b45ff",
   "metadata": {},
   "outputs": [],
   "source": [
    "#create helper function to extract the labels and surface forms from the title_entities and abstract\n",
    "import ast\n",
    "\n",
    "def extract_entities(ent_list: str) -> list:\n",
    "    master_list = []\n",
    "    for item in ast.literal_eval(ent_list):\n",
    "        master_list.append(item[\"Label\"])\n",
    "        if item[\"SurfaceForms\"]:\n",
    "            master_list.append(item[\"SurfaceForms\"][0])\n",
    "    \n",
    "    return list(set(master_list))\n",
    "    "
   ]
  },
  {
   "cell_type": "code",
   "execution_count": 61,
   "id": "53683a50",
   "metadata": {},
   "outputs": [],
   "source": [
    "news_df['title_entities'] = news_df['title_entities'].apply(extract_entities)\n",
    "news_df['abstract_entities'] = news_df['abstract_entities'].apply(extract_entities)\n"
   ]
  },
  {
   "cell_type": "code",
   "execution_count": 62,
   "id": "e8144c08",
   "metadata": {},
   "outputs": [],
   "source": [
    "cols = ['title_cleaned', 'abstract', 'title_entities', 'abstract_entities']\n",
    "\n",
    "for i in cols:\n",
    "    news_df[i] = news_df[i].apply(lambda x: [i.lower().replace(' ', '') for i in x])\n"
   ]
  },
  {
   "cell_type": "markdown",
   "id": "0b907fad",
   "metadata": {},
   "source": [
    "### Create a tags column that is a combination of keywords from title , category, subcategory, and abstract for TF-IDF vectorizer"
   ]
  },
  {
   "cell_type": "code",
   "execution_count": 63,
   "id": "5a132956",
   "metadata": {},
   "outputs": [],
   "source": [
    "news_df['tags'] = news_df['title_cleaned'] + news_df['abstract'] +news_df['title_entities'] + news_df['abstract_entities']"
   ]
  },
  {
   "cell_type": "code",
   "execution_count": 64,
   "id": "2bcdd389",
   "metadata": {},
   "outputs": [],
   "source": [
    "news_df['tags'] = news_df.apply(lambda row: row['tags'] + [row['category']] + [row['subcategory']], axis=1)\n"
   ]
  },
  {
   "cell_type": "code",
   "execution_count": 65,
   "id": "2a70961e",
   "metadata": {},
   "outputs": [
    {
     "data": {
      "text/plain": [
       "2685    371\n",
       "1340    342\n",
       "5440    276\n",
       "3096    252\n",
       "8881    245\n",
       "       ... \n",
       "7443      8\n",
       "3967      8\n",
       "1049      8\n",
       "9707      7\n",
       "3783      7\n",
       "Name: tags, Length: 9469, dtype: int64"
      ]
     },
     "execution_count": 65,
     "metadata": {},
     "output_type": "execute_result"
    }
   ],
   "source": [
    "news_df['tags'].apply(len).sort_values(ascending=False)\n"
   ]
  },
  {
   "cell_type": "code",
   "execution_count": 66,
   "id": "4bf7c6cb",
   "metadata": {},
   "outputs": [],
   "source": [
    "news_df.reset_index(drop = True, inplace = True)\n"
   ]
  },
  {
   "cell_type": "code",
   "execution_count": 67,
   "id": "9b08b442",
   "metadata": {},
   "outputs": [],
   "source": [
    "news_df['tags'] = news_df['tags'].apply(lambda x: ' '.join(x))\n"
   ]
  },
  {
   "cell_type": "markdown",
   "id": "b11286f4",
   "metadata": {},
   "source": [
    "### Import TF-IDF vectorizer and cosine similarity + find good value for max number of features (hyperparameter tuning) for TF-IDF"
   ]
  },
  {
   "cell_type": "code",
   "execution_count": 68,
   "id": "a7f7f7e7",
   "metadata": {},
   "outputs": [],
   "source": [
    "from sklearn.metrics.pairwise import cosine_similarity\n",
    "from sklearn.feature_extraction.text import TfidfVectorizer\n"
   ]
  },
  {
   "cell_type": "code",
   "execution_count": 69,
   "id": "25014230",
   "metadata": {},
   "outputs": [
    {
     "name": "stdout",
     "output_type": "stream",
     "text": [
      "max_features=100, cosine sim variance=0.013773\n",
      "max_features=500, cosine sim variance=0.003270\n",
      "max_features=1000, cosine sim variance=0.001840\n",
      "max_features=3000, cosine sim variance=0.000834\n",
      "max_features=5000, cosine sim variance=0.000603\n",
      "max_features=10000, cosine sim variance=0.000419\n",
      "max_features=30000, cosine sim variance=0.000291\n",
      "max_features=50000, cosine sim variance=0.000277\n",
      "max_features=None, cosine sim variance=0.000277\n",
      "\n",
      " Best max_features: 100 with cosine sim variance: 0.013773\n"
     ]
    }
   ],
   "source": [
    "max_features_range = [100, 500, 1000, 3000, 5000, 10000, 30000, 50000, None]\n",
    "\n",
    "\n",
    "X_text = news_df['tags']\n",
    "results = []\n",
    "\n",
    "for mf in max_features_range:\n",
    "    tfidf = TfidfVectorizer(max_features=mf, stop_words = 'english')\n",
    "    X_tfidf = tfidf.fit_transform(X_text)\n",
    "\n",
    "    sim_matrix = cosine_similarity(X_tfidf)\n",
    "    sim_vals = sim_matrix[np.triu_indices_from(sim_matrix, k=1)]  \n",
    "    var = np.var(sim_vals) #look at cosine similarity variance -> higher variance is generally better\n",
    "    results.append((mf, var))\n",
    "    print(f\"max_features={mf}, cosine sim variance={var:.6f}\")\n",
    "\n",
    "best = max(results, key=lambda x: x[1])\n",
    "print(f\"\\n Best max_features: {best[0]} with cosine sim variance: {best[1]:.6f}\")\n",
    "\n",
    "\n"
   ]
  },
  {
   "cell_type": "code",
   "execution_count": 70,
   "id": "b7244c98",
   "metadata": {},
   "outputs": [
    {
     "name": "stdout",
     "output_type": "stream",
     "text": [
      "Density at 100 features: 0.047675\n",
      "Density at 500 features: 0.019735\n",
      "Density at 1000 features: 0.013037\n",
      "Density at 3000 features: 0.006183\n",
      "Density at 5000 features: 0.004179\n",
      "Density at 10000 features: 0.002362\n",
      "Density at 30000 features: 0.000896\n",
      "Density at 50000 features: 0.000737\n"
     ]
    }
   ],
   "source": [
    "mf = [100, 500, 1000, 3000, 5000, 10000, 30000, 50000]\n",
    "\n",
    "for i in mf:\n",
    "    tfidf = TfidfVectorizer(max_features= i, stop_words='english')\n",
    "    X_tfidf = tfidf.fit_transform(X_text)\n",
    "    density = X_tfidf.nnz / (X_tfidf.shape[0] * X_tfidf.shape[1])\n",
    "    print(f\"Density at {i} features: {density:.6f}\")\n"
   ]
  },
  {
   "cell_type": "markdown",
   "id": "867cebba",
   "metadata": {},
   "source": [
    "### Choose 1000 as max_features "
   ]
  },
  {
   "cell_type": "code",
   "execution_count": 71,
   "id": "78fc9b13",
   "metadata": {},
   "outputs": [],
   "source": [
    "max_features = 1000\n",
    "vec = TfidfVectorizer(max_features= max_features, stop_words = 'english')\n",
    "\n",
    "tfidf_matrix = vec.fit_transform(news_df['tags'])\n",
    "#print(tfidf_matrix.toarray())"
   ]
  },
  {
   "cell_type": "code",
   "execution_count": 72,
   "id": "4e3bc755",
   "metadata": {},
   "outputs": [
    {
     "data": {
      "text/plain": [
       "(9469, 1000)"
      ]
     },
     "execution_count": 72,
     "metadata": {},
     "output_type": "execute_result"
    }
   ],
   "source": [
    "tfidf_matrix.shape"
   ]
  },
  {
   "cell_type": "code",
   "execution_count": 73,
   "id": "119469c4",
   "metadata": {},
   "outputs": [
    {
     "name": "stdout",
     "output_type": "stream",
     "text": [
      "['000' '10' '100' '11' '12' '13' '14' '15' '16' '17' '18' '19' '20' '2017'\n",
      " '2018' '2019' '2020' '21' '22' '23' '24' '25' '26' '27' '28' '29' '30'\n",
      " '31' '35' '40' '49ers' '50' '500' '60' '75' 'able' 'accident' 'according'\n",
      " 'accused' 'action' 'actually' 'adam' 'added' 'administration' 'afternoon'\n",
      " 'agency' 'ago' 'ahead' 'air' 'airport' 'alabama' 'allegedly' 'amazon'\n",
      " 'america' 'american' 'americanfootball' 'amid' 'angeles' 'animal'\n",
      " 'animals' 'announced' 'annual' 'anthony' 'anti' 'antonio' 'ap'\n",
      " 'apartment' 'apartments' 'appeared' 'apple' 'area' 'aren' 'arizona'\n",
      " 'arlington' 'arrested' 'arrived' 'art' 'asked' 'assault'\n",
      " 'associatedpress' 'astros' 'atlanta' 'attack' 'attorney' 'austin'\n",
      " 'authorities' 'autos' 'autosnews' 'available' 'avenue' 'awards' 'away'\n",
      " 'baby' 'bad' 'ball' 'baltimore' 'baltimoreravens' 'bar' 'baseball'\n",
      " 'baseball_mlb' 'based' 'basketball' 'basketball_nba' 'basketball_ncaa'\n",
      " 'bay' 'beach' 'bears' 'beat' 'began' 'begin' 'believe' 'bengals' 'best'\n",
      " 'better' 'biden' 'big' 'biggest' 'black' 'block' 'blue' 'board' 'body'\n",
      " 'boston' 'boy' 'brady' 'break' 'bridge' 'bring' 'broncos' 'brooklyn'\n",
      " 'brought' 'brown' 'browns' 'bruins' 'budget' 'building' 'bus' 'business'\n",
      " 'businesses' 'buy' 'calif' 'california' 'called' 'calling' 'calls' 'came'\n",
      " 'campaign' 'cancer' 'candidate' 'car' 'cardinals' 'care' 'career'\n",
      " 'carolina' 'cars' 'case' 'caught' 'caused' 'cbs' 'celebrity' 'center'\n",
      " 'central' 'championship' 'chance' 'change' 'charged' 'charges' 'charles'\n",
      " 'charlotte' 'chase' 'check' 'chicago' 'chief' 'chiefs' 'child' 'children'\n",
      " 'china' 'chris' 'christmas' 'church' 'cincinnati' 'cities' 'city'\n",
      " 'claims' 'class' 'classic' 'clear' 'cleveland' 'clevelandbrowns'\n",
      " 'climate' 'close' 'closed' 'cnn' 'coach' 'coast' 'cold' 'college'\n",
      " 'colorado' 'colts' 'com' 'come' 'comes' 'coming' 'committee' 'community'\n",
      " 'companies' 'company' 'condition' 'conditions' 'conference' 'confirmed'\n",
      " 'congress' 'connecticut' 'continue' 'continues' 'contract' 'control'\n",
      " 'cortez' 'council' 'country' 'county' 'couple' 'court' 'cowboys' 'crash'\n",
      " 'credit' 'crews' 'cubs' 'cummings' 'cup' 'cut' 'dallas' 'dallascowboys'\n",
      " 'damage' 'data' 'daughter' 'david' 'davis' 'day' 'days' 'dead' 'deal'\n",
      " 'death' 'decades' 'decision' 'defense' 'defensive' 'democratic'\n",
      " 'democraticparty' 'democrats' 'denver' 'department' 'deputies' 'despite'\n",
      " 'details' 'detroit' 'did' 'didn' 'died' 'dies' 'different' 'director'\n",
      " 'disney' 'district' 'does' 'doesn' 'dog' 'dolphins' 'don' 'donald'\n",
      " 'donaldtrump' 'double' 'downtown' 'drive' 'driver' 'drivers' 'driving'\n",
      " 'drug' 'eagles' 'earlier' 'early' 'east' 'easy' 'education' 'election'\n",
      " 'emergency' 'end' 'energy' 'england' 'entertainment' 'espn' 'estate'\n",
      " 'evening' 'event' 'ex' 'expected' 'experts' 'face' 'facebook' 'falcons'\n",
      " 'fall' 'falls' 'family' 'fan' 'fans' 'far' 'fast' 'fatal' 'father'\n",
      " 'favorite' 'federal' 'feel' 'fell' 'field' 'fight' 'film' 'final'\n",
      " 'finance' 'financenews' 'fired' 'firefighters' 'fires' 'florida'\n",
      " 'following' 'food' 'foodanddrink' 'foot' 'football' 'football_ncaa'\n",
      " 'football_nfl' 'force' 'ford' 'forecast' 'fort' 'fortworth' 'forward'\n",
      " 'fourth' 'fox' 'free' 'friday' 'friends' 'future' 'game' 'games' 'gas'\n",
      " 'general' 'george' 'georgia' 'gets' 'getting' 'giants' 'girl' 'giuliani'\n",
      " 'goal' 'goes' 'going' 'golf' 'good' 'google' 'gop' 'got' 'gov'\n",
      " 'government' 'governor' 'grand' 'great' 'green' 'ground' 'group'\n",
      " 'growing' 'guard' 'gun' 'half' 'hall' 'halloween' 'hand' 'happened'\n",
      " 'hard' 'harry' 'having' 'head' 'headlines' 'health' 'heard' 'hearing'\n",
      " 'hearings' 'heart' 'heavy' 'held' 'help' 'helped' 'high' 'highway' 'hill'\n",
      " 'history' 'hit' 'hold' 'holiday' 'home' 'homes' 'hong' 'honor' 'hospital'\n",
      " 'host' 'hot' 'hotel' 'hour' 'hours' 'house' 'houston' 'houstonastros'\n",
      " 'hundreds' 'husband' 'icehockey_nhl' 'identified' 'illinois'\n",
      " 'impeachment' 'incident' 'including' 'indiana' 'indianapolis'\n",
      " 'information' 'injured' 'injuries' 'injury' 'inquiry' 'inside'\n",
      " 'instagram' 'instead' 'international' 'interstate' 'interview'\n",
      " 'investigating' 'investigation' 'involved' 'iowa' 'island' 'isn' 'issued'\n",
      " 'issues' 'jackson' 'jacksonville' 'jaguars' 'james' 'japan' 'jersey'\n",
      " 'jets' 'job' 'joe' 'john' 'johnson' 'jones' 'jr' 'judge' 'just' 'kansas'\n",
      " 'kansascity' 'kansascitychiefs' 'kentucky' 'kevin' 'key' 'kids' 'killed'\n",
      " 'killing' 'king' 'kings' 'know' 'known' 'kong' 'la' 'lake' 'lakers'\n",
      " 'lanes' 'large' 'largest' 'late' 'later' 'latest' 'law' 'lawmakers'\n",
      " 'lawsuit' 'lead' 'leader' 'leaders' 'leading' 'league' 'leave' 'leaving'\n",
      " 'led' 'left' 'legal' 'let' 'life' 'lifestyle' 'lifestylebuzz' 'light'\n",
      " 'like' 'likely' 'line' 'links' 'lions' 'list' 'little' 'live' 'll'\n",
      " 'local' 'location' 'london' 'long' 'look' 'looking' 'looks' 'los'\n",
      " 'losangeles' 'lose' 'loss' 'lost' 'lot' 'louis' 'louisiana' 'louisville'\n",
      " 'love' 'low' 'lsu' 'main' 'maine' 'major' 'make' 'makes' 'making' 'man'\n",
      " 'manager' 'manhattan' 'mark' 'market' 'markets' 'martin' 'maryland'\n",
      " 'massachusetts' 'matt' 'mayor' 'media' 'medical' 'meeting' 'meghan'\n",
      " 'member' 'members' 'memphis' 'men' 'metro' 'mexico' 'miami' 'michael'\n",
      " 'michigan' 'microsoft' 'middle' 'mike' 'miles' 'military' 'million'\n",
      " 'milwaukee' 'minneapolis' 'minnesota' 'minnesotavikings' 'minutes'\n",
      " 'missing' 'missouri' 'mlb' 'mma' 'mom' 'moment' 'monday' 'money' 'month'\n",
      " 'months' 'more_sports' 'morning' 'mother' 'moved' 'movies' 'moving'\n",
      " 'multiple' 'murder' 'music' 'musicnews' 'named' 'nasa' 'nascar'\n",
      " 'nashville' 'nation' 'national' 'nationalfootballleague' 'nationals'\n",
      " 'nba' 'nbc' 'ncaa' 'near' 'nearly' 'need' 'needs' 'neighborhood' 'new'\n",
      " 'newenglandpatriots' 'newjersey' 'news' 'newscrime' 'newsletters'\n",
      " 'newsoffbeat' 'newsopinion' 'newspolitics' 'newsscienceandtechnology'\n",
      " 'newstrends' 'newsus' 'newsworld' 'newyork' 'nfl' 'night' 'nike' 'north'\n",
      " 'northcarolina' 'northern' 'nov' 'november' 'number' 'numbers'\n",
      " 'nutrition' 'oct' 'october' 'offense' 'offensive' 'offer' 'office'\n",
      " 'officer' 'officers' 'official' 'officials' 'ohio' 'oklahoma' 'old'\n",
      " 'open' 'opened' 'opening' 'opens' 'order' 'oregon' 'orlando' 'orleans'\n",
      " 'outside' 'owner' 'packers' 'panthers' 'parents' 'park' 'party' 'pass'\n",
      " 'past' 'patrick' 'patriots' 'patrol' 'paul' 'pay' 'pennsylvania' 'people'\n",
      " 'performance' 'person' 'philadelphia' 'philadelphiaeagles' 'phoenix'\n",
      " 'photos' 'pick' 'pittsburgh' 'pittsburghsteelers' 'place' 'plan' 'plane'\n",
      " 'plans' 'play' 'played' 'player' 'players' 'playing' 'playoff' 'playoffs'\n",
      " 'plus' 'point' 'points' 'police' 'policy' 'political' 'popular'\n",
      " 'possible' 'post' 'potential' 'pounds' 'power' 'practice' 'president'\n",
      " 'presidentdonaldtrump' 'presidential' 'presidenttrump' 'price' 'prince'\n",
      " 'prison' 'pro' 'process' 'program' 'project' 'public' 'qb' 'quarter'\n",
      " 'quarterback' 'questions' 'race' 'racing' 'rain' 'rally' 'rams' 'ranked'\n",
      " 'rankings' 'rare' 'ravens' 'read' 'ready' 'real' 'really' 'received'\n",
      " 'recent' 'recently' 'recipes' 'record' 'records' 'red' 'redskins'\n",
      " 'region' 'related' 'release' 'released' 'remains' 'rep' 'report'\n",
      " 'reported' 'reportedly' 'reports' 'republican' 'republicanparty'\n",
      " 'republicans' 'rescue' 'residents' 'responded' 'restaurant' 'restaurants'\n",
      " 'results' 'retirement' 'return' 'right' 'risk' 'river' 'road' 'roads'\n",
      " 'rock' 'room' 'roster' 'round' 'route' 'run' 'running' 'russia' 'ryan'\n",
      " 'sacramento' 'safety' 'said' 'saints' 'san' 'santa' 'saturday' 'save'\n",
      " 'saw' 'say' 'saying' 'says' 'scene' 'schedule' 'school' 'schools'\n",
      " 'science' 'scored' 'scott' 'sea' 'seahawks' 'search' 'season' 'seat'\n",
      " 'seattle' 'seattleseahawks' 'second' 'secretary' 'security' 'seen' 'sen'\n",
      " 'senate' 'senior' 'sent' 'september' 'series' 'service' 'services' 'set'\n",
      " 'seven' 'sheriff' 'shooting' 'shop' 'short' 'shot' 'shows' 'sign'\n",
      " 'signed' 'signs' 'single' 'small' 'smith' 'snow' 'soccer' 'social'\n",
      " 'soffice' 'son' 'soon' 'south' 'southcarolina' 'southern' 'space'\n",
      " 'special' 'sports' 'spot' 'spots' 'spurs' 'st' 'stadium' 'staff' 'star'\n",
      " 'stars' 'start' 'started' 'starting' 'state' 'statement' 'states'\n",
      " 'station' 'stay' 'steelers' 'step' 'stockton' 'stop' 'store' 'storm'\n",
      " 'story' 'storyful' 'straight' 'street' 'strong' 'struck' 'student'\n",
      " 'students' 'study' 'sunday' 'suns' 'support' 'sure' 'suspect' 'suv'\n",
      " 'syria' 'taken' 'takes' 'taking' 'talk' 'tampa' 'tax' 'taylor' 'team'\n",
      " 'teams' 'temperatures' 'tennessee' 'test' 'texans' 'texas' 'thanksgiving'\n",
      " 'thing' 'things' 'think' 'thomas' 'thought' 'thousands' 'thursday' 'time'\n",
      " 'times' 'title' 'today' 'told' 'tom' 'took' 'tornado' 'total' 'touchdown'\n",
      " 'tour' 'town' 'trade' 'traffic' 'train' 'travel' 'travelarticle'\n",
      " 'travelnews' 'tree' 'trip' 'truck' 'trump' 'try' 'trying' 'tuesday'\n",
      " 'turkey' 'turned' 'tv' 'tvnews' 'twitter' 'ufc' 'ukraine' 'union'\n",
      " 'united' 'unitedstates' 'university' 'update' 'use' 'used' 'using'\n",
      " 'valley' 've' 'vehicle' 'venice' 'veteran' 'veterans' 'victim' 'victory'\n",
      " 'video' 'vikings' 'viral' 'virginia' 'visit' 'vote' 'vs' 'want' 'wanted'\n",
      " 'wants' 'war' 'warning' 'warren' 'washington' 'washingtonnationals'\n",
      " 'washingtonredskins' 'wasn' 'watch' 'water' 'way' 'ways' 'weather'\n",
      " 'weathertopstories' 'wednesday' 'week' 'weekend' 'weeks' 'wellness'\n",
      " 'went' 'west' 'white' 'whitehouse' 'wife' 'wild' 'williams' 'win' 'wind'\n",
      " 'winds' 'winning' 'wins' 'winter' 'wisconsin' 'woman' 'women' 'won'\n",
      " 'woods' 'work' 'working' 'world' 'worldseries' 'worst' 'worth' 'wrong'\n",
      " 'yankees' 'yard' 'yards' 'year' 'years' 'york' 'young']\n"
     ]
    }
   ],
   "source": [
    "features = vec.get_feature_names_out()\n",
    "print(features)"
   ]
  },
  {
   "cell_type": "markdown",
   "id": "1f472ed1",
   "metadata": {},
   "source": [
    "### rerun TF-IDF vectorization on stemmed tokens"
   ]
  },
  {
   "cell_type": "code",
   "execution_count": 74,
   "id": "21a59ad8",
   "metadata": {},
   "outputs": [],
   "source": [
    "from nltk.stem.porter import PorterStemmer\n",
    "ps = PorterStemmer()\n",
    "\n",
    "def get_word_stem(obj):\n",
    "    stem_list = []\n",
    "    for i in obj.split():\n",
    "        stem_list.append(ps.stem(i))\n",
    "    return ' '.join(stem_list)\n",
    "\n",
    "news_df['tags'] = news_df['tags'].apply(get_word_stem)"
   ]
  },
  {
   "cell_type": "code",
   "execution_count": 75,
   "id": "c5c3ca1a",
   "metadata": {},
   "outputs": [],
   "source": [
    "vec = TfidfVectorizer(max_features=1000, stop_words = 'english')\n",
    "\n",
    "tfidf_matrix = vec.fit_transform(news_df['tags'])"
   ]
  },
  {
   "cell_type": "code",
   "execution_count": 76,
   "id": "588e5872",
   "metadata": {},
   "outputs": [
    {
     "name": "stdout",
     "output_type": "stream",
     "text": [
      "['000' '10' '100' '11' '12' '13' '14' '15' '16' '17' '18' '19' '20' '2017'\n",
      " '2018' '2019' '2020' '21' '22' '23' '24' '25' '26' '27' '28' '29' '30'\n",
      " '35' '40' '49er' '50' '500' '60' 'abl' 'accid' 'accord' 'accus' 'act'\n",
      " 'action' 'actual' 'ad' 'adam' 'administr' 'afternoon' 'agent' 'ago'\n",
      " 'ahead' 'air' 'airport' 'alabama' 'alleg' 'allow' 'alreadi' 'alway'\n",
      " 'amazon' 'america' 'american' 'americanfootball' 'amid' 'angel' 'ani'\n",
      " 'anim' 'announc' 'annual' 'anoth' 'answer' 'antonio' 'ap' 'apart' 'app'\n",
      " 'appear' 'area' 'arizona' 'arrest' 'arriv' 'art' 'ask' 'assault' 'assist'\n",
      " 'associatedpress' 'astro' 'atlanta' 'attack' 'attempt' 'attend'\n",
      " 'attorney' 'austin' 'author' 'auto' 'autosnew' 'avenu' 'avoid' 'award'\n",
      " 'away' 'babi' 'bad' 'ball' 'baltimor' 'baltimoreraven' 'bar' 'bas' 'base'\n",
      " 'baseball_mlb' 'basketbal' 'basketball_nba' 'basketball_ncaa' 'battl'\n",
      " 'bay' 'beach' 'bear' 'beat' 'becaus' 'becom' 'befor' 'begin' 'believ'\n",
      " 'bengal' 'best' 'better' 'biden' 'big' 'biggest' 'black' 'block' 'blue'\n",
      " 'board' 'bodi' 'book' 'boston' 'boy' 'break' 'bridg' 'bring' 'bronco'\n",
      " 'brooklyn' 'brown' 'bu' 'budget' 'build' 'burn' 'busi' 'buy' 'california'\n",
      " 'came' 'campaign' 'cancer' 'candid' 'captur' 'car' 'card' 'cardin' 'care'\n",
      " 'career' 'carolina' 'carri' 'case' 'caught' 'caus' 'cb' 'celebr' 'center'\n",
      " 'central' 'challeng' 'championship' 'chanc' 'chang' 'charg' 'chase'\n",
      " 'check' 'chicago' 'chief' 'child' 'children' 'china' 'christma' 'church'\n",
      " 'cincinnati' 'citi' 'city' 'claim' 'class' 'classic' 'clear' 'cleveland'\n",
      " 'clevelandbrown' 'climat' 'close' 'cnn' 'coach' 'coast' 'cold' 'colleg'\n",
      " 'colorado' 'com' 'come' 'comment' 'committe' 'commun' 'compani' 'company'\n",
      " 'complet' 'concern' 'condit' 'confer' 'confirm' 'congress' 'connecticut'\n",
      " 'consid' 'continu' 'contract' 'control' 'cook' 'cost' 'council' 'counti'\n",
      " 'countri' 'country' 'county' 'coupl' 'court' 'cowboy' 'crash' 'creat'\n",
      " 'credit' 'crew' 'crime' 'critic' 'cub' 'cup' 'current' 'custom' 'cut'\n",
      " 'dalla' 'dallascowboy' 'damag' 'danger' 'data' 'date' 'daughter' 'david'\n",
      " 'day' 'dead' 'deal' 'death' 'debut' 'decad' 'decid' 'decis' 'defend'\n",
      " 'defens' 'democrat' 'democraticparty' 'denver' 'depart' 'deputi' 'design'\n",
      " 'despit' 'detroit' 'develop' 'did' 'didn' 'die' 'differ' 'director'\n",
      " 'discuss' 'disney' 'district' 'doe' 'doesn' 'dog' 'dollar' 'don' 'donald'\n",
      " 'donaldtrump' 'door' 'downtown' 'dozen' 'drive' 'driver' 'drop' 'drug'\n",
      " 'dure' 'eagl' 'earli' 'earlier' 'earn' 'east' 'eat' 'educ' 'effect'\n",
      " 'effort' 'elect' 'emerg' 'employe' 'end' 'england' 'enter' 'entertain'\n",
      " 'entir' 'espn' 'est' 'event' 'everi' 'expect' 'expert' 'explain' 'eye'\n",
      " 'face' 'facebook' 'fact' 'falcon' 'fall' 'famili' 'fan' 'far' 'fast'\n",
      " 'fatal' 'father' 'favorit' 'featur' 'feder' 'feel' 'fell' 'field' 'fight'\n",
      " 'file' 'film' 'final' 'financ' 'finance' 'financenew' 'finish'\n",
      " 'firefight' 'flight' 'flood' 'florida' 'follow' 'food' 'foodanddrink'\n",
      " 'foot' 'footbal' 'football' 'football_ncaa' 'football_nfl' 'forc' 'ford'\n",
      " 'forecast' 'fort' 'fortworth' 'forward' 'fourth' 'fox' 'free' 'friday'\n",
      " 'friend' 'fund' 'futur' 'ga' 'game' 'gener' 'georgia' 'giant' 'girl'\n",
      " 'giuliani' 'goal' 'goe' 'golf' 'good' 'googl' 'gop' 'got' 'gov' 'govern'\n",
      " 'governor' 'grand' 'great' 'green' 'ground' 'group' 'grow' 'guard' 'gun'\n",
      " 'ha' 'half' 'hall' 'halloween' 'hand' 'happen' 'hard' 'harri' 'head'\n",
      " 'health' 'hear' 'heard' 'heart' 'heat' 'held' 'help' 'hi' 'high'\n",
      " 'highway' 'hill' 'hire' 'histor' 'histori' 'hit' 'hold' 'holiday' 'home'\n",
      " 'honor' 'hope' 'hospit' 'host' 'hot' 'hotel' 'hour' 'hous' 'houston'\n",
      " 'houstonastro' 'human' 'hundr' 'husband' 'icehockey_nhl' 'icon' 'idea'\n",
      " 'identifi' 'illinoi' 'immigr' 'impact' 'impeach' 'incid' 'includ'\n",
      " 'increas' 'indiana' 'indianapoli' 'inform' 'injur' 'injuri' 'inquiri'\n",
      " 'insid' 'instagram' 'intern' 'interview' 'investig' 'involv' 'iowa'\n",
      " 'island' 'isn' 'issu' 'jackson' 'jacksonvil' 'jame' 'japan' 'jersey'\n",
      " 'jet' 'job' 'joe' 'john' 'johnson' 'join' 'jone' 'jr' 'judg' 'jump'\n",
      " 'just' 'kansa' 'kansascitychief' 'kentucki' 'kevin' 'key' 'kid' 'kill'\n",
      " 'king' 'know' 'known' 'la' 'lake' 'laker' 'land' 'lane' 'larg' 'largest'\n",
      " 'late' 'later' 'latest' 'launch' 'law' 'lawmak' 'lawsuit' 'lead' 'leader'\n",
      " 'leagu' 'learn' 'leav' 'led' 'left' 'legal' 'let' 'letter' 'level' 'life'\n",
      " 'lifestyl' 'lifestylebuzz' 'light' 'like' 'line' 'link' 'lion' 'list'\n",
      " 'littl' 'live' 'll' 'lo' 'local' 'locat' 'london' 'long' 'look'\n",
      " 'losangel' 'lose' 'loss' 'lost' 'lot' 'loui' 'louisiana' 'louisvil'\n",
      " 'love' 'low' 'lsu' 'main' 'major' 'make' 'man' 'manag' 'mani' 'mark'\n",
      " 'market' 'martin' 'maryland' 'massachusett' 'matt' 'mayor' 'mean' 'media'\n",
      " 'medic' 'meet' 'meghan' 'member' 'memphi' 'men' 'met' 'metro' 'mexico'\n",
      " 'miami' 'michael' 'michigan' 'microsoft' 'mike' 'mile' 'militari'\n",
      " 'million' 'minnesota' 'minnesotavik' 'minut' 'miss' 'missouri' 'mlb'\n",
      " 'mma' 'mom' 'moment' 'monday' 'money' 'month' 'more_sport' 'morn'\n",
      " 'morning' 'mother' 'movi' 'multipl' 'murder' 'music' 'musicnew' 'nasa'\n",
      " 'nascar' 'nashvil' 'nashville' 'nation' 'nationalfootballleagu' 'nba'\n",
      " 'nbc' 'near' 'nearli' 'need' 'neighborhood' 'new' 'newenglandpatriot'\n",
      " 'newjersey' 'news' 'newscrim' 'newslett' 'newsoffbeat' 'newsopinion'\n",
      " 'newspolit' 'newsscienceandtechnolog' 'newstrend' 'newsu' 'newsworld'\n",
      " 'newyork' 'nfl' 'night' 'nike' 'north' 'northcarolina' 'northern' 'nov'\n",
      " 'novemb' 'number' 'oct' 'octob' 'offens' 'offer' 'offic' 'offici' 'ohio'\n",
      " 'oklahoma' 'old' 'onc' 'onli' 'open' 'oper' 'order' 'oregon' 'organ'\n",
      " 'orlando' 'outsid' 'owner' 'panther' 'parent' 'park' 'parti' 'pass'\n",
      " 'past' 'patrick' 'patriot' 'patrol' 'paul' 'pay' 'pennsylvania' 'peopl'\n",
      " 'people' 'perform' 'person' 'philadelphia' 'philadelphiaeagl' 'phoenix'\n",
      " 'photo' 'pick' 'pittsburgh' 'place' 'plan' 'plane' 'play' 'player'\n",
      " 'playoff' 'point' 'polic' 'police' 'polici' 'polit' 'poll' 'popular'\n",
      " 'posit' 'possibl' 'post' 'potenti' 'pound' 'power' 'practic' 'prepar'\n",
      " 'presid' 'president' 'presidentdonaldtrump' 'presidenti' 'presidenttrump'\n",
      " 'press' 'price' 'prison' 'pro' 'problem' 'process' 'product' 'program'\n",
      " 'project' 'protect' 'protest' 'provid' 'public' 'pull' 'push' 'quarter'\n",
      " 'quarterback' 'question' 'quit' 'race' 'rain' 'rais' 'ralli' 'ram' 'rank'\n",
      " 'rare' 'rate' 'raven' 'reach' 'read' 'readi' 'real' 'realli' 'reason'\n",
      " 'receiv' 'recent' 'recip' 'record' 'red' 'redskin' 'region' 'releas'\n",
      " 'remain' 'remov' 'rent' 'rep' 'report' 'reportedli' 'reports'\n",
      " 'republican' 'republicanparty' 'rescu' 'research' 'resid' 'respond'\n",
      " 'respons' 'rest' 'restaur' 'result' 'retir' 'return' 'reveal' 'review'\n",
      " 'ride' 'right' 'rise' 'risk' 'river' 'road' 'robert' 'rock' 'rocket'\n",
      " 'roll' 'room' 'roster' 'round' 'rout' 'royal' 'rule' 'run' 'rush'\n",
      " 'russia' 'ryan' 'sacramento' 'safeti' 'said' 'saint' 'sale' 'san' 'santa'\n",
      " 'saturday' 'save' 'say' 'scene' 'schedul' 'school' 'score' 'sea'\n",
      " 'seahawk' 'search' 'season' 'seat' 'seattl' 'seattleseahawk' 'second'\n",
      " 'secur' 'seek' 'seen' 'sen' 'senat' 'send' 'senior' 'sent' 'seri' 'serv'\n",
      " 'servic' 'set' 'seven' 'sever' 'sexual' 'share' 'sheriff' 'shoot' 'shop'\n",
      " 'short' 'shot' 'sign' 'sinc' 'sit' 'small' 'smith' 'snow' 'soccer'\n",
      " 'social' 'soffic' 'someth' 'son' 'soon' 'south' 'southcarolina'\n",
      " 'southern' 'space' 'speak' 'special' 'spend' 'sport' 'spot' 'spur' 'st'\n",
      " 'stadium' 'staff' 'stand' 'star' 'start' 'state' 'statement' 'station'\n",
      " 'stay' 'steeler' 'step' 'stock' 'stockton' 'stop' 'store' 'stori' 'storm'\n",
      " 'story' 'straight' 'street' 'strong' 'struck' 'struggl' 'student' 'studi'\n",
      " 'suffer' 'sun' 'sunday' 'support' 'sure' 'surpris' 'suspect' 'suv'\n",
      " 'syria' 'taken' 'talk' 'tampa' 'target' 'tax' 'taylor' 'teacher' 'team'\n",
      " 'teen' 'tell' 'temperatur' 'tennesse' 'test' 'texa' 'texan' 'texas'\n",
      " 'thank' 'thanksgiv' 'thi' 'thing' 'think' 'thought' 'thousand' 'threaten'\n",
      " 'thursday' 'ticket' 'tiger' 'tim' 'time' 'tip' 'titl' 'today' 'told'\n",
      " 'tom' 'took' 'tornado' 'total' 'touchdown' 'tour' 'town' 'track' 'trade'\n",
      " 'traffic' 'trail' 'train' 'travel' 'travelarticl' 'travelnew' 'treat'\n",
      " 'tree' 'trend' 'tri' 'trick' 'trip' 'truck' 'trump' 'tuesday' 'turkey'\n",
      " 'turn' 'tv' 'tvnew' 'tweet' 'twitter' 'ufc' 'ukrain' 'union' 'unit'\n",
      " 'unitedst' 'unitedstates' 'univers' 'updat' 'use' 'valley' 'vehicl'\n",
      " 'veri' 'veteran' 'victim' 'victori' 'video' 'vike' 'viral' 'virginia'\n",
      " 'visit' 'vote' 'vs' 'wa' 'wait' 'walk' 'want' 'war' 'warn' 'warren'\n",
      " 'washington' 'washingtonn' 'wasn' 'watch' 'water' 'way' 'weather'\n",
      " 'weathertopstori' 'wednesday' 'week' 'weekend' 'went' 'west' 'whi'\n",
      " 'white' 'whitehous' 'wife' 'wild' 'william' 'win' 'wind' 'winter'\n",
      " 'wisconsin' 'wit' 'woman' 'women' 'won' 'wood' 'work' 'worker' 'world'\n",
      " 'worldseri' 'worst' 'worth' 'wrong' 'yanke' 'yard' 'year' 'years' 'york'\n",
      " 'young']\n"
     ]
    }
   ],
   "source": [
    "features = vec.get_feature_names_out()\n",
    "print(features)"
   ]
  },
  {
   "cell_type": "code",
   "execution_count": 77,
   "id": "c754744d",
   "metadata": {},
   "outputs": [],
   "source": [
    "similarity = cosine_similarity(tfidf_matrix) #run cosine similarity on the new tf-idf matrix \n"
   ]
  },
  {
   "cell_type": "markdown",
   "id": "6a3a80fe",
   "metadata": {},
   "source": [
    "### Model: output the 5 most similar articles to the input article"
   ]
  },
  {
   "cell_type": "code",
   "execution_count": 78,
   "id": "364ff923",
   "metadata": {},
   "outputs": [],
   "source": [
    "def recommend_articles(article):\n",
    "    article_index = news_df[news_df['title'] == article].index[0]\n",
    "    similarity_scores = similarity[article_index]\n",
    "    article_list = sorted(list(enumerate(similarity[article_index])),reverse = True, key=lambda x: x[1])[1:6]\n",
    "    print(article_list)\n",
    "    for i in article_list:\n",
    "        print(news_df.iloc[i[0]].title)\n",
    "    "
   ]
  },
  {
   "cell_type": "code",
   "execution_count": 79,
   "id": "a9f195d8",
   "metadata": {},
   "outputs": [
    {
     "data": {
      "text/plain": [
       "0                                                              The 3 best Greek spots in Aurora\n",
       "1     SmileDirectClub tanks on California bill, bringing loss since September IPO to nearly 60%\n",
       "2                                                         The world's 50 most reliable airlines\n",
       "3                              High school football: Breaking down the Class 3A playoff bracket\n",
       "4                                 At a UFC event, Trump receives second round of boos in a week\n",
       "                                                ...                                            \n",
       "95                                                 Colts nearly drafted CB Champ Bailey in 1999\n",
       "96                 38 men who were worthy competitors for John Legend's Sexiest Man Alive title\n",
       "97                                                            Tons of Tubers Dropped in Lemoyne\n",
       "98                                               Trio wins economics Nobel for fighting poverty\n",
       "99                                AMBER Alert issued for 2-year-old girl from Miami-Dade County\n",
       "Name: title, Length: 100, dtype: object"
      ]
     },
     "execution_count": 79,
     "metadata": {},
     "output_type": "execute_result"
    }
   ],
   "source": [
    "\n",
    "news_df.title[:100]"
   ]
  },
  {
   "cell_type": "code",
   "execution_count": 80,
   "id": "ea71534d",
   "metadata": {},
   "outputs": [
    {
     "data": {
      "text/html": [
       "<div>\n",
       "<style scoped>\n",
       "    .dataframe tbody tr th:only-of-type {\n",
       "        vertical-align: middle;\n",
       "    }\n",
       "\n",
       "    .dataframe tbody tr th {\n",
       "        vertical-align: top;\n",
       "    }\n",
       "\n",
       "    .dataframe thead th {\n",
       "        text-align: right;\n",
       "    }\n",
       "</style>\n",
       "<table border=\"1\" class=\"dataframe\">\n",
       "  <thead>\n",
       "    <tr style=\"text-align: right;\">\n",
       "      <th></th>\n",
       "      <th>news_id</th>\n",
       "      <th>category</th>\n",
       "      <th>subcategory</th>\n",
       "      <th>title</th>\n",
       "      <th>abstract</th>\n",
       "      <th>title_entities</th>\n",
       "      <th>abstract_entities</th>\n",
       "      <th>title_cleaned</th>\n",
       "      <th>tags</th>\n",
       "    </tr>\n",
       "  </thead>\n",
       "  <tbody>\n",
       "    <tr>\n",
       "      <th>0</th>\n",
       "      <td>N7433</td>\n",
       "      <td>news</td>\n",
       "      <td>newsus</td>\n",
       "      <td>The 3 best Greek spots in Aurora</td>\n",
       "      <td>[hoodline, crunched, the, numbers, to, find, the, top, greek, spots, around, aurora., here's, a, rundown, of, three, of, the, top, places.]</td>\n",
       "      <td>[]</td>\n",
       "      <td>[]</td>\n",
       "      <td>[the, 3, best, greek, spots, in, aurora]</td>\n",
       "      <td>the 3 best greek spot in aurora hoodlin crunch the number to find the top greek spot around aurora. here' a rundown of three of the top places. news newsu</td>\n",
       "    </tr>\n",
       "  </tbody>\n",
       "</table>\n",
       "</div>"
      ],
      "text/plain": [
       "  news_id category subcategory                             title  \\\n",
       "0   N7433     news      newsus  The 3 best Greek spots in Aurora   \n",
       "\n",
       "                                                                                                                                      abstract  \\\n",
       "0  [hoodline, crunched, the, numbers, to, find, the, top, greek, spots, around, aurora., here's, a, rundown, of, three, of, the, top, places.]   \n",
       "\n",
       "  title_entities abstract_entities                             title_cleaned  \\\n",
       "0             []                []  [the, 3, best, greek, spots, in, aurora]   \n",
       "\n",
       "                                                                                                                                                         tags  \n",
       "0  the 3 best greek spot in aurora hoodlin crunch the number to find the top greek spot around aurora. here' a rundown of three of the top places. news newsu  "
      ]
     },
     "execution_count": 80,
     "metadata": {},
     "output_type": "execute_result"
    }
   ],
   "source": [
    "article = \"The 3 best Greek spots in Aurora\"\n",
    "news_df[news_df['title'] == article]"
   ]
  },
  {
   "cell_type": "code",
   "execution_count": 81,
   "id": "a30eadea",
   "metadata": {},
   "outputs": [
    {
     "data": {
      "text/plain": [
       "0    the 3 best greek spot in aurora hoodlin crunch the number to find the top greek spot around aurora. here' a rundown of three of the top places. news newsu\n",
       "Name: tags, dtype: object"
      ]
     },
     "execution_count": 81,
     "metadata": {},
     "output_type": "execute_result"
    }
   ],
   "source": [
    "inp_id = news_df.loc[news_df['title'] == article, 'news_id'].values[0]\n",
    "news_df[news_df['news_id'] == inp_id].tags"
   ]
  },
  {
   "cell_type": "code",
   "execution_count": 82,
   "id": "dca90ba3",
   "metadata": {},
   "outputs": [
    {
     "name": "stdout",
     "output_type": "stream",
     "text": [
      "[(9003, 0.7750322902383374), (1711, 0.7316539128578328), (1881, 0.6747760070070389), (2753, 0.6707953233924896), (3369, 0.5896095896916413)]\n",
      "Here are Minneapolis' top 5 used, vintage and consignment spots\n",
      "The 4 best Mexican spots in Norfolk\n",
      "NASA Spacecraft Spots A Strange Bright Spot On Jupiter\n",
      "Here are Norfolk's top 4 French spots\n",
      "The 3 best gyms in Aurora\n"
     ]
    }
   ],
   "source": [
    "recommend_articles(article)"
   ]
  },
  {
   "cell_type": "code",
   "execution_count": 83,
   "id": "42b75faf",
   "metadata": {},
   "outputs": [
    {
     "name": "stdout",
     "output_type": "stream",
     "text": [
      "[(3377, 0.622208832393952), (4316, 0.5425686132763836), (542, 0.5055672168784461), (1487, 0.41403465171625703), (4233, 0.3266760772456565)]\n",
      "CBS staffer fired over Robach tape says she wasn't the one to leak it\n",
      "CBS To Remake James Corden's Sky Gameshow 'A League Of Their Own'\n",
      "Gary McCord speaks out loudly about being dropped from CBS golf team: 'Bottom line, they fired me'\n",
      "Browns at Broncos: TV broadcast map for Week 9\n",
      "Eye Opener 8: Jimmy Carter undergoing brain procedure\n"
     ]
    }
   ],
   "source": [
    "article = \"Colts nearly drafted CB Champ Bailey in 1999\"\n",
    "recommend_articles(article)"
   ]
  },
  {
   "cell_type": "code",
   "execution_count": 84,
   "id": "d685b735",
   "metadata": {},
   "outputs": [
    {
     "data": {
      "text/plain": [
       "category\n",
       "news             2947\n",
       "sports           2586\n",
       "finance           563\n",
       "foodanddrink      486\n",
       "lifestyle         454\n",
       "travel            447\n",
       "video             400\n",
       "health            384\n",
       "weather           354\n",
       "autos             293\n",
       "tv                197\n",
       "music             148\n",
       "movies            110\n",
       "entertainment      95\n",
       "kids                4\n",
       "middleeast          1\n",
       "Name: count, dtype: int64"
      ]
     },
     "execution_count": 84,
     "metadata": {},
     "output_type": "execute_result"
    }
   ],
   "source": [
    "news_df['category'].value_counts()"
   ]
  },
  {
   "cell_type": "code",
   "execution_count": 85,
   "id": "bdab99a8",
   "metadata": {},
   "outputs": [
    {
     "data": {
      "image/png": "[encoded data removed]",
      "text/plain": [
       "<Figure size 640x480 with 1 Axes>"
      ]
     },
     "metadata": {},
     "output_type": "display_data"
    }
   ],
   "source": [
    "news_df['category'].value_counts().plot(kind = 'bar')\n",
    "plt.xlabel('Category')\n",
    "plt.ylabel('Count')\n",
    "plt.title('Category Frequency')\n",
    "plt.show()"
   ]
  },
  {
   "cell_type": "markdown",
   "id": "6b76df70",
   "metadata": {},
   "source": [
    "### Updated Model: output the 5 most similar articles in the same category as the input article "
   ]
  },
  {
   "cell_type": "code",
   "execution_count": 86,
   "id": "9cb665db",
   "metadata": {},
   "outputs": [],
   "source": [
    "def recommend_articles_within_category(article):\n",
    "    \n",
    "    article_index = news_df[news_df['title'] == article].index[0]\n",
    "    category = news_df.loc[news_df['title'] == article, 'category'].values[0]\n",
    "    similarity_scores = similarity[article_index]\n",
    "    same_category_article_indices = news_df[news_df['category'] == category].index\n",
    "    #filter out articles that are not in the same category as the input\n",
    "    article_list = sorted(list(enumerate(similarity[article_index])), reverse = True, key=lambda x: x[1])\n",
    "    filtered_list = [i for i in article_list if i[0] in same_category_article_indices][1:6]\n",
    "    print(filtered_list)\n",
    "        \n",
    "    for i in filtered_list:\n",
    "        print(category, news_df.iloc[i[0]].title)"
   ]
  },
  {
   "cell_type": "code",
   "execution_count": 87,
   "id": "79522936",
   "metadata": {},
   "outputs": [],
   "source": [
    "category = news_df.loc[news_df['title'] == article, 'category'].values[0]"
   ]
  },
  {
   "cell_type": "code",
   "execution_count": 88,
   "id": "3b19b634",
   "metadata": {},
   "outputs": [
    {
     "data": {
      "text/plain": [
       "Index([   3,    6,    8,   10,   20,   21,   32,   35,   38,   42,\n",
       "       ...\n",
       "       9431, 9436, 9437, 9441, 9442, 9447, 9448, 9449, 9466, 9467],\n",
       "      dtype='int64', length=2586)"
      ]
     },
     "execution_count": 88,
     "metadata": {},
     "output_type": "execute_result"
    }
   ],
   "source": [
    "news_df[news_df['category'] == category].index"
   ]
  },
  {
   "cell_type": "markdown",
   "id": "4cde1500",
   "metadata": {},
   "source": [
    "### Test and Save models"
   ]
  },
  {
   "cell_type": "code",
   "execution_count": 89,
   "id": "31090bda",
   "metadata": {},
   "outputs": [
    {
     "name": "stdout",
     "output_type": "stream",
     "text": [
      "[(9003, 0.7750322902383374), (3369, 0.5896095896916413), (6980, 0.5448472712962079), (11, 0.5064644520857159), (3020, 0.4650951125972894)]\n",
      "news Here are Minneapolis' top 5 used, vintage and consignment spots\n",
      "news The 3 best gyms in Aurora\n",
      "news Here are Berkeley's top 5 cards and stationery spots\n",
      "news New Pioneer Square Vietnamese spot, Mr Saigon opens its doors\n",
      "news The 4 best vegan spots in Detroit\n"
     ]
    }
   ],
   "source": [
    "article = \"The 3 best Greek spots in Aurora\"\n",
    "recommend_articles_within_category(article)"
   ]
  },
  {
   "cell_type": "code",
   "execution_count": 90,
   "id": "511c9685",
   "metadata": {},
   "outputs": [
    {
     "name": "stdout",
     "output_type": "stream",
     "text": [
      "[(4347, 0.6520276393026079), (9026, 0.6506248237584491), (6068, 0.6345519081497022), (4428, 0.6102795713132387), (3215, 0.5368079495957709)]\n",
      "news In three Miami-Dade cities, the election isn't over. Here's how to vote in the runoff.\n",
      "news Miami man robbed gas stations and convenience stores, FBI says, and it may be a federal case\n",
      "news Dead cats are popping up at a Miami-Dade condominium. Residents think it's poison.\n",
      "news He wants to control rent and steal a trolley. He's running for Miami's District 1.\n",
      "news Miami-Dade has hundreds of illegal Airbnbs. Now county wants to water down rules\n"
     ]
    }
   ],
   "source": [
    "article = \"AMBER Alert issued for 2-year-old girl from Miami-Dade County\"\n",
    "recommend_articles_within_category(article)"
   ]
  },
  {
   "cell_type": "code",
   "execution_count": 91,
   "id": "af9d94ff",
   "metadata": {
    "scrolled": true
   },
   "outputs": [
    {
     "data": {
      "text/html": [
       "<div>\n",
       "<style scoped>\n",
       "    .dataframe tbody tr th:only-of-type {\n",
       "        vertical-align: middle;\n",
       "    }\n",
       "\n",
       "    .dataframe tbody tr th {\n",
       "        vertical-align: top;\n",
       "    }\n",
       "\n",
       "    .dataframe thead th {\n",
       "        text-align: right;\n",
       "    }\n",
       "</style>\n",
       "<table border=\"1\" class=\"dataframe\">\n",
       "  <thead>\n",
       "    <tr style=\"text-align: right;\">\n",
       "      <th></th>\n",
       "      <th>news_id</th>\n",
       "      <th>category</th>\n",
       "      <th>subcategory</th>\n",
       "      <th>title</th>\n",
       "      <th>abstract</th>\n",
       "      <th>title_entities</th>\n",
       "      <th>abstract_entities</th>\n",
       "      <th>title_cleaned</th>\n",
       "      <th>tags</th>\n",
       "    </tr>\n",
       "  </thead>\n",
       "  <tbody>\n",
       "    <tr>\n",
       "      <th>1944</th>\n",
       "      <td>N38324</td>\n",
       "      <td>health</td>\n",
       "      <td>medical</td>\n",
       "      <td>How to Get Rid of Skin Tags, According to a Dermatologist</td>\n",
       "      <td>[they, seem, harmless,, but, there's, a, very, good, reason, you, shouldn't, ignore, them., the, post, how, to, get, rid, of, skin, tags,, according, to, a, dermatologist, appeared, first, on, reader's, digest.]</td>\n",
       "      <td>[skintag, skintags]</td>\n",
       "      <td>[dermatologist, reader'sdigest, dermatology, skintag, skintags]</td>\n",
       "      <td>[how, to, get, rid, of, skin, tags,, according, to, a, dermatologist]</td>\n",
       "      <td>how to get rid of skin tags, accord to a dermatologist they seem harmless, but there' a veri good reason you shouldn't ignor them. the post how to get rid of skin tags, accord to a dermatologist appear first on reader' digest. skintag skintag dermatologist reader'sdigest dermatolog skintag skintag health medic</td>\n",
       "    </tr>\n",
       "    <tr>\n",
       "      <th>4914</th>\n",
       "      <td>N13489</td>\n",
       "      <td>health</td>\n",
       "      <td>health-news</td>\n",
       "      <td>New Schizophrenia Drug Approved by FDA, Will Be Available as Transdermal Patch</td>\n",
       "      <td>[a, transdermal, patch, that, could, bring, relief, to, people, with, schizophrenia, has, been, approved, by, the, fda.]</td>\n",
       "      <td>[transdermalpatch, fda, foodanddrugadministration, transdermalpatch]</td>\n",
       "      <td>[transdermalpatch, fda, foodanddrugadministration, transdermalpatch]</td>\n",
       "      <td>[new, schizophrenia, drug, approved, by, fda,, will, be, available, as, transdermal, patch]</td>\n",
       "      <td>new schizophrenia drug approv by fda, will be avail as transderm patch a transderm patch that could bring relief to peopl with schizophrenia ha been approv by the fda. transdermalpatch fda foodanddrugadministr transdermalpatch transdermalpatch fda foodanddrugadministr transdermalpatch health health-new</td>\n",
       "    </tr>\n",
       "  </tbody>\n",
       "</table>\n",
       "</div>"
      ],
      "text/plain": [
       "     news_id category  subcategory  \\\n",
       "1944  N38324   health      medical   \n",
       "4914  N13489   health  health-news   \n",
       "\n",
       "                                                                               title  \\\n",
       "1944                       How to Get Rid of Skin Tags, According to a Dermatologist   \n",
       "4914  New Schizophrenia Drug Approved by FDA, Will Be Available as Transdermal Patch   \n",
       "\n",
       "                                                                                                                                                                                                                 abstract  \\\n",
       "1944  [they, seem, harmless,, but, there's, a, very, good, reason, you, shouldn't, ignore, them., the, post, how, to, get, rid, of, skin, tags,, according, to, a, dermatologist, appeared, first, on, reader's, digest.]   \n",
       "4914                                                                                             [a, transdermal, patch, that, could, bring, relief, to, people, with, schizophrenia, has, been, approved, by, the, fda.]   \n",
       "\n",
       "                                                            title_entities  \\\n",
       "1944                                                   [skintag, skintags]   \n",
       "4914  [transdermalpatch, fda, foodanddrugadministration, transdermalpatch]   \n",
       "\n",
       "                                                         abstract_entities  \\\n",
       "1944       [dermatologist, reader'sdigest, dermatology, skintag, skintags]   \n",
       "4914  [transdermalpatch, fda, foodanddrugadministration, transdermalpatch]   \n",
       "\n",
       "                                                                                    title_cleaned  \\\n",
       "1944                        [how, to, get, rid, of, skin, tags,, according, to, a, dermatologist]   \n",
       "4914  [new, schizophrenia, drug, approved, by, fda,, will, be, available, as, transdermal, patch]   \n",
       "\n",
       "                                                                                                                                                                                                                                                                                                                         tags  \n",
       "1944  how to get rid of skin tags, accord to a dermatologist they seem harmless, but there' a veri good reason you shouldn't ignor them. the post how to get rid of skin tags, accord to a dermatologist appear first on reader' digest. skintag skintag dermatologist reader'sdigest dermatolog skintag skintag health medic  \n",
       "4914          new schizophrenia drug approv by fda, will be avail as transderm patch a transderm patch that could bring relief to peopl with schizophrenia ha been approv by the fda. transdermalpatch fda foodanddrugadministr transdermalpatch transdermalpatch fda foodanddrugadministr transdermalpatch health health-new  "
      ]
     },
     "execution_count": 91,
     "metadata": {},
     "output_type": "execute_result"
    }
   ],
   "source": [
    "news_df[(news_df['category'] == 'health') & (news_df['title'].str.contains('derm', case = False))]"
   ]
  },
  {
   "cell_type": "code",
   "execution_count": 92,
   "id": "2309c4a4",
   "metadata": {},
   "outputs": [
    {
     "data": {
      "text/plain": [
       "['news_df.joblib']"
      ]
     },
     "execution_count": 92,
     "metadata": {},
     "output_type": "execute_result"
    }
   ],
   "source": [
    "dump(news_df, 'news_df.joblib')"
   ]
  },
  {
   "cell_type": "code",
   "execution_count": 93,
   "id": "93a90618",
   "metadata": {},
   "outputs": [],
   "source": [
    "filename = 'news_df.joblib'\n",
    "\n",
    "# Get absolute path\n",
    "absolute_path = os.path.abspath(filename)\n"
   ]
  },
  {
   "cell_type": "code",
   "execution_count": 94,
   "id": "424aa27b",
   "metadata": {},
   "outputs": [
    {
     "data": {
      "text/plain": [
       "['similarity.joblib']"
      ]
     },
     "execution_count": 94,
     "metadata": {},
     "output_type": "execute_result"
    }
   ],
   "source": [
    "dump(similarity, 'similarity.joblib')"
   ]
  },
  {
   "cell_type": "code",
   "execution_count": null,
   "id": "a86c9e80",
   "metadata": {},
   "outputs": [],
   "source": []
  }
 ],
 "metadata": {
  "kernelspec": {
   "display_name": "Python 3 (ipykernel)",
   "language": "python",
   "name": "python3"
  },
  "language_info": {
   "codemirror_mode": {
    "name": "ipython",
    "version": 3
   },
   "file_extension": ".py",
   "mimetype": "text/x-python",
   "name": "python",
   "nbconvert_exporter": "python",
   "pygments_lexer": "ipython3",
   "version": "3.11.4"
  }
 },
 "nbformat": 4,
 "nbformat_minor": 5
}
